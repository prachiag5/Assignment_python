{
 "cells": [
  {
   "cell_type": "code",
   "execution_count": null,
   "metadata": {},
   "outputs": [],
   "source": [
    "import cv2\n",
    "import numpy as np\n",
    "face_cascade = cv2.CascadeClassifier('D:\\opencv\\data\\haarcascades\\haarcascade_frontalface_alt.xml')\n",
    "cropFace = []\n",
    "img = cv2.imread(\"https://hackattic.com/_/faces/8c440e9e.102e.4c27.b1ac.d3bbf9aad25c\")\n",
    "gray = cv2.cvtColor(img, cv2.COLOR_RGB2GRAY)\n",
    "faces = face_cascade.detectMultiScale(gray,\n",
    "                                        scaleFactor=1.3,\n",
    "                                        minNeighbors=8,\n",
    "                                        minSize=(30,30),\n",
    "                                        )\n",
    "for (x,y,w,h) in faces:\n",
    "    cv2.rectangle(img,(x,y),(x+w,y+h),(255,255,255),2)\n",
    "cv2.imshow(\"Faces\",img)"
   ]
  }
 ],
 "metadata": {
  "kernelspec": {
   "display_name": "Python 3",
   "language": "python",
   "name": "python3"
  },
  "language_info": {
   "codemirror_mode": {
    "name": "ipython",
    "version": 3
   },
   "file_extension": ".py",
   "mimetype": "text/x-python",
   "name": "python",
   "nbconvert_exporter": "python",
   "pygments_lexer": "ipython3",
   "version": "3.7.4"
  }
 },
 "nbformat": 4,
 "nbformat_minor": 2
}
